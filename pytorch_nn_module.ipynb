{
  "nbformat": 4,
  "nbformat_minor": 0,
  "metadata": {
    "colab": {
      "provenance": [],
      "gpuType": "T4",
      "authorship_tag": "ABX9TyOHlR4TXrtQ5picQ+bafBDW",
      "include_colab_link": true
    },
    "kernelspec": {
      "name": "python3",
      "display_name": "Python 3"
    },
    "language_info": {
      "name": "python"
    },
    "accelerator": "GPU"
  },
  "cells": [
    {
      "cell_type": "markdown",
      "metadata": {
        "id": "view-in-github",
        "colab_type": "text"
      },
      "source": [
        "<a href=\"https://colab.research.google.com/github/mohitt38/Pytorch/blob/main/pytorch_nn_module.ipynb\" target=\"_parent\"><img src=\"https://colab.research.google.com/assets/colab-badge.svg\" alt=\"Open In Colab\"/></a>"
      ]
    },
    {
      "cell_type": "code",
      "execution_count": 1,
      "metadata": {
        "id": "lL8SnsnWmc86"
      },
      "outputs": [],
      "source": [
        "#create model class\n",
        "import torch\n",
        "import torch.nn as nn\n",
        "\n",
        "class Model(nn.Module):\n",
        "\n",
        "  def __init__(self, num_features):\n",
        "\n",
        "    super().__init__()\n",
        "    self.network = nn.Sequential(\n",
        "        nn.Linear(num_features,3),\n",
        "        nn.ReLU(),\n",
        "        nn.Linear(3,1),\n",
        "        nn.Sigmoid()\n",
        "    )\n",
        "\n",
        "  def forward(self,features):\n",
        "    out = self.network(features)\n",
        "    return out"
      ]
    },
    {
      "cell_type": "code",
      "source": [
        "# create dataset\n",
        "features = torch.rand(10,5)\n",
        "\n",
        "# create model\n",
        "model = Model(features.shape[1])\n",
        "\n",
        "# call model for forward pass\n",
        "# model.forward(features)\n",
        "model(features)"
      ],
      "metadata": {
        "colab": {
          "base_uri": "https://localhost:8080/"
        },
        "id": "SUoMO8htmix2",
        "outputId": "fc4a5b88-6309-46e4-d663-522d449870ab"
      },
      "execution_count": 2,
      "outputs": [
        {
          "output_type": "execute_result",
          "data": {
            "text/plain": [
              "tensor([[0.3841],\n",
              "        [0.4045],\n",
              "        [0.3888],\n",
              "        [0.3937],\n",
              "        [0.3846],\n",
              "        [0.3874],\n",
              "        [0.3753],\n",
              "        [0.3953],\n",
              "        [0.3900],\n",
              "        [0.3811]], grad_fn=<SigmoidBackward0>)"
            ]
          },
          "metadata": {},
          "execution_count": 2
        }
      ]
    },
    {
      "cell_type": "code",
      "metadata": {
        "colab": {
          "base_uri": "https://localhost:8080/"
        },
        "id": "b66c515a",
        "outputId": "c6b5f4b3-ea34-449a-d7bc-f8358a96d046"
      },
      "source": [
        "# Access the weights of the first Linear layer (index 0):\n",
        "print(\"Weights of the first Linear layer:\")\n",
        "print(model.network[0].weight)\n",
        "\n",
        "# Access the weights of the second Linear layer (index 2):\n",
        "print(\"\\nWeights of the second Linear layer:\")\n",
        "print(model.network[2].weight)"
      ],
      "execution_count": 11,
      "outputs": [
        {
          "output_type": "stream",
          "name": "stdout",
          "text": [
            "Weights of the first Linear layer:\n",
            "Parameter containing:\n",
            "tensor([[-0.3545, -0.0878, -0.1241, -0.1598,  0.0886],\n",
            "        [ 0.0861,  0.0310,  0.4248,  0.1917,  0.0701],\n",
            "        [-0.1761,  0.3633, -0.3108,  0.3322, -0.3825]], device='cuda:0',\n",
            "       requires_grad=True)\n",
            "\n",
            "Weights of the second Linear layer:\n",
            "Parameter containing:\n",
            "tensor([[ 0.1406, -0.1820,  0.5293]], device='cuda:0', requires_grad=True)\n"
          ]
        }
      ]
    },
    {
      "cell_type": "code",
      "source": [
        "# model bias\n",
        "# The Sequential model doesn't have a 'bias' attribute directly.\n",
        "# Bias is in the individual layers within the Sequential model.\n",
        "# Access the first Linear layer (index 0) to get its bias:\n",
        "print(\"Bias of the first Linear layer:\")\n",
        "print(model.network[0].bias)\n",
        "\n",
        "# Access the second Linear layer (index 2) to get its bias:\n",
        "print(\"\\nBias of the second Linear layer:\")\n",
        "print(model.network[2].bias)"
      ],
      "metadata": {
        "colab": {
          "base_uri": "https://localhost:8080/"
        },
        "id": "1GVmXDjnmir9",
        "outputId": "331aedae-860c-48f8-f557-8482eeedc638"
      },
      "execution_count": 7,
      "outputs": [
        {
          "output_type": "stream",
          "name": "stdout",
          "text": [
            "Bias of the first Linear layer:\n",
            "Parameter containing:\n",
            "tensor([ 0.2112,  0.4312, -0.0446], requires_grad=True)\n",
            "\n",
            "Bias of the second Linear layer:\n",
            "Parameter containing:\n",
            "tensor([-0.3160], requires_grad=True)\n"
          ]
        }
      ]
    },
    {
      "cell_type": "code",
      "source": [
        "!pip install torchinfo"
      ],
      "metadata": {
        "colab": {
          "base_uri": "https://localhost:8080/"
        },
        "id": "wAcSkdr8mipk",
        "outputId": "bbe5c2c2-b172-4273-c548-ca6c4323690b"
      },
      "execution_count": 8,
      "outputs": [
        {
          "output_type": "stream",
          "name": "stdout",
          "text": [
            "Collecting torchinfo\n",
            "  Downloading torchinfo-1.8.0-py3-none-any.whl.metadata (21 kB)\n",
            "Downloading torchinfo-1.8.0-py3-none-any.whl (23 kB)\n",
            "Installing collected packages: torchinfo\n",
            "Successfully installed torchinfo-1.8.0\n"
          ]
        }
      ]
    },
    {
      "cell_type": "code",
      "source": [
        "from torchinfo import summary\n",
        "summary(model,input_size=(10,5))"
      ],
      "metadata": {
        "colab": {
          "base_uri": "https://localhost:8080/"
        },
        "id": "bD2PszvQminB",
        "outputId": "ae29e69d-556d-4ac1-deee-aa5eb95da547"
      },
      "execution_count": 9,
      "outputs": [
        {
          "output_type": "execute_result",
          "data": {
            "text/plain": [
              "==========================================================================================\n",
              "Layer (type:depth-idx)                   Output Shape              Param #\n",
              "==========================================================================================\n",
              "Model                                    [10, 1]                   --\n",
              "├─Sequential: 1-1                        [10, 1]                   --\n",
              "│    └─Linear: 2-1                       [10, 3]                   18\n",
              "│    └─ReLU: 2-2                         [10, 3]                   --\n",
              "│    └─Linear: 2-3                       [10, 1]                   4\n",
              "│    └─Sigmoid: 2-4                      [10, 1]                   --\n",
              "==========================================================================================\n",
              "Total params: 22\n",
              "Trainable params: 22\n",
              "Non-trainable params: 0\n",
              "Total mult-adds (Units.MEGABYTES): 0.00\n",
              "==========================================================================================\n",
              "Input size (MB): 0.00\n",
              "Forward/backward pass size (MB): 0.00\n",
              "Params size (MB): 0.00\n",
              "Estimated Total Size (MB): 0.00\n",
              "=========================================================================================="
            ]
          },
          "metadata": {},
          "execution_count": 9
        }
      ]
    },
    {
      "cell_type": "code",
      "source": [],
      "metadata": {
        "id": "BdFBXqVcmikp"
      },
      "execution_count": null,
      "outputs": []
    },
    {
      "cell_type": "code",
      "source": [],
      "metadata": {
        "id": "HxQZwLsfmiiD"
      },
      "execution_count": null,
      "outputs": []
    }
  ]
}