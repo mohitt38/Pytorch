{
  "nbformat": 4,
  "nbformat_minor": 0,
  "metadata": {
    "colab": {
      "provenance": [],
      "gpuType": "T4",
      "authorship_tag": "ABX9TyOtj3UOoLp9zQBIfDU5XGAl",
      "include_colab_link": true
    },
    "kernelspec": {
      "name": "python3",
      "display_name": "Python 3"
    },
    "language_info": {
      "name": "python"
    }
  },
  "cells": [
    {
      "cell_type": "markdown",
      "metadata": {
        "id": "view-in-github",
        "colab_type": "text"
      },
      "source": [
        "<a href=\"https://colab.research.google.com/github/mohitt38/Pytorch/blob/main/pytorch_RNN_based_Q_A_system.ipynb\" target=\"_parent\"><img src=\"https://colab.research.google.com/assets/colab-badge.svg\" alt=\"Open In Colab\"/></a>"
      ]
    },
    {
      "cell_type": "code",
      "execution_count": 58,
      "metadata": {
        "colab": {
          "base_uri": "https://localhost:8080/",
          "height": 206
        },
        "id": "nBhZKvgmvf3x",
        "outputId": "b60a8b5f-1aa6-4f05-868b-c147006a230c"
      },
      "outputs": [
        {
          "output_type": "execute_result",
          "data": {
            "text/plain": [
              "                                          question      answer\n",
              "0                   What is the capital of France?       Paris\n",
              "1                  What is the capital of Germany?      Berlin\n",
              "2               Who wrote 'To Kill a Mockingbird'?  Harper-Lee\n",
              "3  What is the largest planet in our solar system?     Jupiter\n",
              "4   What is the boiling point of water in Celsius?         100"
            ],
            "text/html": [
              "\n",
              "  <div id=\"df-0a01812d-823a-482a-bbc7-83b7a65326bb\" class=\"colab-df-container\">\n",
              "    <div>\n",
              "<style scoped>\n",
              "    .dataframe tbody tr th:only-of-type {\n",
              "        vertical-align: middle;\n",
              "    }\n",
              "\n",
              "    .dataframe tbody tr th {\n",
              "        vertical-align: top;\n",
              "    }\n",
              "\n",
              "    .dataframe thead th {\n",
              "        text-align: right;\n",
              "    }\n",
              "</style>\n",
              "<table border=\"1\" class=\"dataframe\">\n",
              "  <thead>\n",
              "    <tr style=\"text-align: right;\">\n",
              "      <th></th>\n",
              "      <th>question</th>\n",
              "      <th>answer</th>\n",
              "    </tr>\n",
              "  </thead>\n",
              "  <tbody>\n",
              "    <tr>\n",
              "      <th>0</th>\n",
              "      <td>What is the capital of France?</td>\n",
              "      <td>Paris</td>\n",
              "    </tr>\n",
              "    <tr>\n",
              "      <th>1</th>\n",
              "      <td>What is the capital of Germany?</td>\n",
              "      <td>Berlin</td>\n",
              "    </tr>\n",
              "    <tr>\n",
              "      <th>2</th>\n",
              "      <td>Who wrote 'To Kill a Mockingbird'?</td>\n",
              "      <td>Harper-Lee</td>\n",
              "    </tr>\n",
              "    <tr>\n",
              "      <th>3</th>\n",
              "      <td>What is the largest planet in our solar system?</td>\n",
              "      <td>Jupiter</td>\n",
              "    </tr>\n",
              "    <tr>\n",
              "      <th>4</th>\n",
              "      <td>What is the boiling point of water in Celsius?</td>\n",
              "      <td>100</td>\n",
              "    </tr>\n",
              "  </tbody>\n",
              "</table>\n",
              "</div>\n",
              "    <div class=\"colab-df-buttons\">\n",
              "\n",
              "  <div class=\"colab-df-container\">\n",
              "    <button class=\"colab-df-convert\" onclick=\"convertToInteractive('df-0a01812d-823a-482a-bbc7-83b7a65326bb')\"\n",
              "            title=\"Convert this dataframe to an interactive table.\"\n",
              "            style=\"display:none;\">\n",
              "\n",
              "  <svg xmlns=\"http://www.w3.org/2000/svg\" height=\"24px\" viewBox=\"0 -960 960 960\">\n",
              "    <path d=\"M120-120v-720h720v720H120Zm60-500h600v-160H180v160Zm220 220h160v-160H400v160Zm0 220h160v-160H400v160ZM180-400h160v-160H180v160Zm440 0h160v-160H620v160ZM180-180h160v-160H180v160Zm440 0h160v-160H620v160Z\"/>\n",
              "  </svg>\n",
              "    </button>\n",
              "\n",
              "  <style>\n",
              "    .colab-df-container {\n",
              "      display:flex;\n",
              "      gap: 12px;\n",
              "    }\n",
              "\n",
              "    .colab-df-convert {\n",
              "      background-color: #E8F0FE;\n",
              "      border: none;\n",
              "      border-radius: 50%;\n",
              "      cursor: pointer;\n",
              "      display: none;\n",
              "      fill: #1967D2;\n",
              "      height: 32px;\n",
              "      padding: 0 0 0 0;\n",
              "      width: 32px;\n",
              "    }\n",
              "\n",
              "    .colab-df-convert:hover {\n",
              "      background-color: #E2EBFA;\n",
              "      box-shadow: 0px 1px 2px rgba(60, 64, 67, 0.3), 0px 1px 3px 1px rgba(60, 64, 67, 0.15);\n",
              "      fill: #174EA6;\n",
              "    }\n",
              "\n",
              "    .colab-df-buttons div {\n",
              "      margin-bottom: 4px;\n",
              "    }\n",
              "\n",
              "    [theme=dark] .colab-df-convert {\n",
              "      background-color: #3B4455;\n",
              "      fill: #D2E3FC;\n",
              "    }\n",
              "\n",
              "    [theme=dark] .colab-df-convert:hover {\n",
              "      background-color: #434B5C;\n",
              "      box-shadow: 0px 1px 3px 1px rgba(0, 0, 0, 0.15);\n",
              "      filter: drop-shadow(0px 1px 2px rgba(0, 0, 0, 0.3));\n",
              "      fill: #FFFFFF;\n",
              "    }\n",
              "  </style>\n",
              "\n",
              "    <script>\n",
              "      const buttonEl =\n",
              "        document.querySelector('#df-0a01812d-823a-482a-bbc7-83b7a65326bb button.colab-df-convert');\n",
              "      buttonEl.style.display =\n",
              "        google.colab.kernel.accessAllowed ? 'block' : 'none';\n",
              "\n",
              "      async function convertToInteractive(key) {\n",
              "        const element = document.querySelector('#df-0a01812d-823a-482a-bbc7-83b7a65326bb');\n",
              "        const dataTable =\n",
              "          await google.colab.kernel.invokeFunction('convertToInteractive',\n",
              "                                                    [key], {});\n",
              "        if (!dataTable) return;\n",
              "\n",
              "        const docLinkHtml = 'Like what you see? Visit the ' +\n",
              "          '<a target=\"_blank\" href=https://colab.research.google.com/notebooks/data_table.ipynb>data table notebook</a>'\n",
              "          + ' to learn more about interactive tables.';\n",
              "        element.innerHTML = '';\n",
              "        dataTable['output_type'] = 'display_data';\n",
              "        await google.colab.output.renderOutput(dataTable, element);\n",
              "        const docLink = document.createElement('div');\n",
              "        docLink.innerHTML = docLinkHtml;\n",
              "        element.appendChild(docLink);\n",
              "      }\n",
              "    </script>\n",
              "  </div>\n",
              "\n",
              "\n",
              "    <div id=\"df-f2889821-d1cf-48b5-b534-f806a516ba31\">\n",
              "      <button class=\"colab-df-quickchart\" onclick=\"quickchart('df-f2889821-d1cf-48b5-b534-f806a516ba31')\"\n",
              "                title=\"Suggest charts\"\n",
              "                style=\"display:none;\">\n",
              "\n",
              "<svg xmlns=\"http://www.w3.org/2000/svg\" height=\"24px\"viewBox=\"0 0 24 24\"\n",
              "     width=\"24px\">\n",
              "    <g>\n",
              "        <path d=\"M19 3H5c-1.1 0-2 .9-2 2v14c0 1.1.9 2 2 2h14c1.1 0 2-.9 2-2V5c0-1.1-.9-2-2-2zM9 17H7v-7h2v7zm4 0h-2V7h2v10zm4 0h-2v-4h2v4z\"/>\n",
              "    </g>\n",
              "</svg>\n",
              "      </button>\n",
              "\n",
              "<style>\n",
              "  .colab-df-quickchart {\n",
              "      --bg-color: #E8F0FE;\n",
              "      --fill-color: #1967D2;\n",
              "      --hover-bg-color: #E2EBFA;\n",
              "      --hover-fill-color: #174EA6;\n",
              "      --disabled-fill-color: #AAA;\n",
              "      --disabled-bg-color: #DDD;\n",
              "  }\n",
              "\n",
              "  [theme=dark] .colab-df-quickchart {\n",
              "      --bg-color: #3B4455;\n",
              "      --fill-color: #D2E3FC;\n",
              "      --hover-bg-color: #434B5C;\n",
              "      --hover-fill-color: #FFFFFF;\n",
              "      --disabled-bg-color: #3B4455;\n",
              "      --disabled-fill-color: #666;\n",
              "  }\n",
              "\n",
              "  .colab-df-quickchart {\n",
              "    background-color: var(--bg-color);\n",
              "    border: none;\n",
              "    border-radius: 50%;\n",
              "    cursor: pointer;\n",
              "    display: none;\n",
              "    fill: var(--fill-color);\n",
              "    height: 32px;\n",
              "    padding: 0;\n",
              "    width: 32px;\n",
              "  }\n",
              "\n",
              "  .colab-df-quickchart:hover {\n",
              "    background-color: var(--hover-bg-color);\n",
              "    box-shadow: 0 1px 2px rgba(60, 64, 67, 0.3), 0 1px 3px 1px rgba(60, 64, 67, 0.15);\n",
              "    fill: var(--button-hover-fill-color);\n",
              "  }\n",
              "\n",
              "  .colab-df-quickchart-complete:disabled,\n",
              "  .colab-df-quickchart-complete:disabled:hover {\n",
              "    background-color: var(--disabled-bg-color);\n",
              "    fill: var(--disabled-fill-color);\n",
              "    box-shadow: none;\n",
              "  }\n",
              "\n",
              "  .colab-df-spinner {\n",
              "    border: 2px solid var(--fill-color);\n",
              "    border-color: transparent;\n",
              "    border-bottom-color: var(--fill-color);\n",
              "    animation:\n",
              "      spin 1s steps(1) infinite;\n",
              "  }\n",
              "\n",
              "  @keyframes spin {\n",
              "    0% {\n",
              "      border-color: transparent;\n",
              "      border-bottom-color: var(--fill-color);\n",
              "      border-left-color: var(--fill-color);\n",
              "    }\n",
              "    20% {\n",
              "      border-color: transparent;\n",
              "      border-left-color: var(--fill-color);\n",
              "      border-top-color: var(--fill-color);\n",
              "    }\n",
              "    30% {\n",
              "      border-color: transparent;\n",
              "      border-left-color: var(--fill-color);\n",
              "      border-top-color: var(--fill-color);\n",
              "      border-right-color: var(--fill-color);\n",
              "    }\n",
              "    40% {\n",
              "      border-color: transparent;\n",
              "      border-right-color: var(--fill-color);\n",
              "      border-top-color: var(--fill-color);\n",
              "    }\n",
              "    60% {\n",
              "      border-color: transparent;\n",
              "      border-right-color: var(--fill-color);\n",
              "    }\n",
              "    80% {\n",
              "      border-color: transparent;\n",
              "      border-right-color: var(--fill-color);\n",
              "      border-bottom-color: var(--fill-color);\n",
              "    }\n",
              "    90% {\n",
              "      border-color: transparent;\n",
              "      border-bottom-color: var(--fill-color);\n",
              "    }\n",
              "  }\n",
              "</style>\n",
              "\n",
              "      <script>\n",
              "        async function quickchart(key) {\n",
              "          const quickchartButtonEl =\n",
              "            document.querySelector('#' + key + ' button');\n",
              "          quickchartButtonEl.disabled = true;  // To prevent multiple clicks.\n",
              "          quickchartButtonEl.classList.add('colab-df-spinner');\n",
              "          try {\n",
              "            const charts = await google.colab.kernel.invokeFunction(\n",
              "                'suggestCharts', [key], {});\n",
              "          } catch (error) {\n",
              "            console.error('Error during call to suggestCharts:', error);\n",
              "          }\n",
              "          quickchartButtonEl.classList.remove('colab-df-spinner');\n",
              "          quickchartButtonEl.classList.add('colab-df-quickchart-complete');\n",
              "        }\n",
              "        (() => {\n",
              "          let quickchartButtonEl =\n",
              "            document.querySelector('#df-f2889821-d1cf-48b5-b534-f806a516ba31 button');\n",
              "          quickchartButtonEl.style.display =\n",
              "            google.colab.kernel.accessAllowed ? 'block' : 'none';\n",
              "        })();\n",
              "      </script>\n",
              "    </div>\n",
              "\n",
              "    </div>\n",
              "  </div>\n"
            ],
            "application/vnd.google.colaboratory.intrinsic+json": {
              "type": "dataframe",
              "variable_name": "df",
              "summary": "{\n  \"name\": \"df\",\n  \"rows\": 90,\n  \"fields\": [\n    {\n      \"column\": \"question\",\n      \"properties\": {\n        \"dtype\": \"string\",\n        \"num_unique_values\": 90,\n        \"samples\": [\n          \"What is the currency of China?\",\n          \"What is the capital of Australia?\",\n          \"Who discovered electricity?\"\n        ],\n        \"semantic_type\": \"\",\n        \"description\": \"\"\n      }\n    },\n    {\n      \"column\": \"answer\",\n      \"properties\": {\n        \"dtype\": \"string\",\n        \"num_unique_values\": 85,\n        \"samples\": [\n          \"ChristopherColumbus\",\n          \"Paris\",\n          \"Christmas\"\n        ],\n        \"semantic_type\": \"\",\n        \"description\": \"\"\n      }\n    }\n  ]\n}"
            }
          },
          "metadata": {},
          "execution_count": 58
        }
      ],
      "source": [
        "import pandas as pd\n",
        "\n",
        "df= pd.read_csv(\"/content/100_Unique_QA_Dataset.csv\")\n",
        "df.head()"
      ]
    },
    {
      "cell_type": "code",
      "source": [
        "# tokenize\n",
        "def tokenize(text):\n",
        "  text = text.lower()\n",
        "  text = text.replace('?' , '')\n",
        "  text = text.replace(\"'\" , \"\")\n",
        "  return text.split()"
      ],
      "metadata": {
        "id": "-C3e_AtFvvEF"
      },
      "execution_count": 59,
      "outputs": []
    },
    {
      "cell_type": "code",
      "source": [
        "tokenize(\"What is the capital of Germany?\t\")"
      ],
      "metadata": {
        "colab": {
          "base_uri": "https://localhost:8080/"
        },
        "id": "K-M7x_qpwask",
        "outputId": "3a7af176-f1bb-4da3-bbb7-7fc32d8090ab"
      },
      "execution_count": 60,
      "outputs": [
        {
          "output_type": "execute_result",
          "data": {
            "text/plain": [
              "['what', 'is', 'the', 'capital', 'of', 'germany']"
            ]
          },
          "metadata": {},
          "execution_count": 60
        }
      ]
    },
    {
      "cell_type": "code",
      "source": [
        "# vocablury\n",
        "vocab = {'<UNK>':0}"
      ],
      "metadata": {
        "id": "o9I6VSdsvvBi"
      },
      "execution_count": 61,
      "outputs": []
    },
    {
      "cell_type": "code",
      "source": [
        "def build_vocab(row):\n",
        "  tokenized_ques = tokenize(row['question'])\n",
        "  tokenized_ans = tokenize(row['answer'])\n",
        "\n",
        "  merged_tokens = tokenized_ques + tokenized_ans\n",
        "\n",
        "  for token in merged_tokens:\n",
        "    if token not in vocab:\n",
        "      vocab[token] = len(vocab)"
      ],
      "metadata": {
        "id": "cW4bIl5CxHDS"
      },
      "execution_count": 62,
      "outputs": []
    },
    {
      "cell_type": "code",
      "source": [
        "df.apply(build_vocab, axis=1)"
      ],
      "metadata": {
        "colab": {
          "base_uri": "https://localhost:8080/",
          "height": 458
        },
        "id": "ooNkb6b5xG_p",
        "outputId": "4085251f-e824-4933-c3c9-615221b38d13"
      },
      "execution_count": 63,
      "outputs": [
        {
          "output_type": "execute_result",
          "data": {
            "text/plain": [
              "0     None\n",
              "1     None\n",
              "2     None\n",
              "3     None\n",
              "4     None\n",
              "      ... \n",
              "85    None\n",
              "86    None\n",
              "87    None\n",
              "88    None\n",
              "89    None\n",
              "Length: 90, dtype: object"
            ],
            "text/html": [
              "<div>\n",
              "<style scoped>\n",
              "    .dataframe tbody tr th:only-of-type {\n",
              "        vertical-align: middle;\n",
              "    }\n",
              "\n",
              "    .dataframe tbody tr th {\n",
              "        vertical-align: top;\n",
              "    }\n",
              "\n",
              "    .dataframe thead th {\n",
              "        text-align: right;\n",
              "    }\n",
              "</style>\n",
              "<table border=\"1\" class=\"dataframe\">\n",
              "  <thead>\n",
              "    <tr style=\"text-align: right;\">\n",
              "      <th></th>\n",
              "      <th>0</th>\n",
              "    </tr>\n",
              "  </thead>\n",
              "  <tbody>\n",
              "    <tr>\n",
              "      <th>0</th>\n",
              "      <td>None</td>\n",
              "    </tr>\n",
              "    <tr>\n",
              "      <th>1</th>\n",
              "      <td>None</td>\n",
              "    </tr>\n",
              "    <tr>\n",
              "      <th>2</th>\n",
              "      <td>None</td>\n",
              "    </tr>\n",
              "    <tr>\n",
              "      <th>3</th>\n",
              "      <td>None</td>\n",
              "    </tr>\n",
              "    <tr>\n",
              "      <th>4</th>\n",
              "      <td>None</td>\n",
              "    </tr>\n",
              "    <tr>\n",
              "      <th>...</th>\n",
              "      <td>...</td>\n",
              "    </tr>\n",
              "    <tr>\n",
              "      <th>85</th>\n",
              "      <td>None</td>\n",
              "    </tr>\n",
              "    <tr>\n",
              "      <th>86</th>\n",
              "      <td>None</td>\n",
              "    </tr>\n",
              "    <tr>\n",
              "      <th>87</th>\n",
              "      <td>None</td>\n",
              "    </tr>\n",
              "    <tr>\n",
              "      <th>88</th>\n",
              "      <td>None</td>\n",
              "    </tr>\n",
              "    <tr>\n",
              "      <th>89</th>\n",
              "      <td>None</td>\n",
              "    </tr>\n",
              "  </tbody>\n",
              "</table>\n",
              "<p>90 rows × 1 columns</p>\n",
              "</div><br><label><b>dtype:</b> object</label>"
            ]
          },
          "metadata": {},
          "execution_count": 63
        }
      ]
    },
    {
      "cell_type": "code",
      "source": [
        "len(vocab)"
      ],
      "metadata": {
        "colab": {
          "base_uri": "https://localhost:8080/"
        },
        "id": "Eb8kRe2ayetr",
        "outputId": "23ce4bd4-1701-4b15-f5c6-947a47c69a0c"
      },
      "execution_count": 64,
      "outputs": [
        {
          "output_type": "execute_result",
          "data": {
            "text/plain": [
              "324"
            ]
          },
          "metadata": {},
          "execution_count": 64
        }
      ]
    },
    {
      "cell_type": "code",
      "source": [
        "# convert words to numerical indices\n",
        "def text_to_indices(text , vocab):\n",
        "\n",
        "  indexed_text = []\n",
        "\n",
        "  for token in tokenize(text):\n",
        "\n",
        "    if  token in vocab:\n",
        "      indexed_text.append(vocab[token])\n",
        "    else:\n",
        "      indexed_text.append(vocab['<UNK>'])\n",
        "\n",
        "  return indexed_text"
      ],
      "metadata": {
        "id": "W81emRZ1vu_M"
      },
      "execution_count": 65,
      "outputs": []
    },
    {
      "cell_type": "code",
      "source": [
        "text_to_indices(\"What is the capital of Germany?\", vocab)"
      ],
      "metadata": {
        "colab": {
          "base_uri": "https://localhost:8080/"
        },
        "id": "N1XSS5tDypHA",
        "outputId": "8197832a-ae2d-4155-8b18-68153c83d153"
      },
      "execution_count": 66,
      "outputs": [
        {
          "output_type": "execute_result",
          "data": {
            "text/plain": [
              "[1, 2, 3, 4, 5, 8]"
            ]
          },
          "metadata": {},
          "execution_count": 66
        }
      ]
    },
    {
      "cell_type": "code",
      "source": [
        "text_to_indices(\"Who is mohit?\", vocab)"
      ],
      "metadata": {
        "colab": {
          "base_uri": "https://localhost:8080/"
        },
        "id": "3oOkP0KCvu83",
        "outputId": "5c82c7de-ec53-4039-a24a-401f6d88bd43"
      },
      "execution_count": 67,
      "outputs": [
        {
          "output_type": "execute_result",
          "data": {
            "text/plain": [
              "[10, 2, 0]"
            ]
          },
          "metadata": {},
          "execution_count": 67
        }
      ]
    },
    {
      "cell_type": "code",
      "source": [
        "import torch\n",
        "from torch.utils.data import Dataset, DataLoader"
      ],
      "metadata": {
        "id": "Em50v4fvvu6X"
      },
      "execution_count": 68,
      "outputs": []
    },
    {
      "cell_type": "code",
      "source": [
        "class QADataset(Dataset):\n",
        "\n",
        "  def __init__(self , df , vocab):\n",
        "    self.df = df\n",
        "    self.vocab = vocab\n",
        "\n",
        "  def __len__(self):\n",
        "    return self.df.shape[0]\n",
        "\n",
        "  def __getitem__(self, index):\n",
        "    numerical_question = text_to_indices(self.df.iloc[index]['question'], self.vocab)\n",
        "    numerical_answer = text_to_indices(self.df.iloc[index]['answer'], self.vocab)\n",
        "\n",
        "    return torch.tensor(numerical_question), torch.tensor(numerical_answer)\n"
      ],
      "metadata": {
        "id": "X1mPsGIcvu3w"
      },
      "execution_count": 69,
      "outputs": []
    },
    {
      "cell_type": "code",
      "source": [
        "dataset = QADataset(df, vocab)"
      ],
      "metadata": {
        "id": "cKEsyBhHvu1b"
      },
      "execution_count": 70,
      "outputs": []
    },
    {
      "cell_type": "code",
      "source": [
        "dataset[5]"
      ],
      "metadata": {
        "colab": {
          "base_uri": "https://localhost:8080/"
        },
        "id": "0bq7Z-HPvuzI",
        "outputId": "cb2b169d-ce2f-4a4f-a6ee-aba92309510f"
      },
      "execution_count": 71,
      "outputs": [
        {
          "output_type": "execute_result",
          "data": {
            "text/plain": [
              "(tensor([10, 29,  3, 30, 31]), tensor([32]))"
            ]
          },
          "metadata": {},
          "execution_count": 71
        }
      ]
    },
    {
      "cell_type": "code",
      "source": [
        "dataloader = DataLoader(dataset, batch_size=1, shuffle=True)"
      ],
      "metadata": {
        "id": "2L-gMFIQvuw2"
      },
      "execution_count": 72,
      "outputs": []
    },
    {
      "cell_type": "code",
      "source": [
        "for question, answer in dataloader:\n",
        "  print(question, answer)\n"
      ],
      "metadata": {
        "colab": {
          "base_uri": "https://localhost:8080/"
        },
        "id": "fuffnzjgvuuc",
        "outputId": "81f45f4c-a669-4c5c-8302-eddd605c8b44"
      },
      "execution_count": 73,
      "outputs": [
        {
          "output_type": "stream",
          "name": "stdout",
          "text": [
            "tensor([[  1,   2,   3,  92, 137,  19,   3,  45]]) tensor([[185]])\n",
            "tensor([[ 42, 137,   2, 138,  39, 139]]) tensor([[53]])\n",
            "tensor([[ 42, 137, 118,   3, 247,   5, 248]]) tensor([[249]])\n",
            "tensor([[ 10,  75, 208]]) tensor([[209]])\n",
            "tensor([[  1,   2,   3, 180, 181, 182, 183]]) tensor([[184]])\n",
            "tensor([[42, 18,  2, 62, 63,  3, 64, 18]]) tensor([[65]])\n",
            "tensor([[ 1,  2,  3,  4,  5, 53]]) tensor([[54]])\n",
            "tensor([[  1,   2,   3,   4,   5, 109]]) tensor([[317]])\n",
            "tensor([[ 42,  18, 118,   3, 186, 187]]) tensor([[188]])\n",
            "tensor([[  1,  87, 229, 230, 231, 232]]) tensor([[233]])\n",
            "tensor([[ 10,  11, 189, 158, 190]]) tensor([[191]])\n",
            "tensor([[  1,   2,   3, 146,  86,  19, 192, 193]]) tensor([[194]])\n",
            "tensor([[1, 2, 3, 4, 5, 8]]) tensor([[9]])\n",
            "tensor([[  1,   2,   3,   4,   5, 236, 237]]) tensor([[238]])\n",
            "tensor([[  1,   2,   3, 103,   5, 104,  19, 105]]) tensor([[106]])\n",
            "tensor([[ 1,  2,  3, 69,  5, 53]]) tensor([[260]])\n",
            "tensor([[  1,   2,   3, 234,   5, 235]]) tensor([[131]])\n",
            "tensor([[10,  2,  3, 66,  5, 67]]) tensor([[68]])\n",
            "tensor([[ 78,  79, 195,  81,  19,   3, 196, 197, 198]]) tensor([[199]])\n",
            "tensor([[ 1,  2,  3,  4,  5, 99]]) tensor([[100]])\n",
            "tensor([[  1,   2,   3,  33,  34,   5, 245]]) tensor([[246]])\n",
            "tensor([[ 42, 255,   2, 256,  83, 257, 258]]) tensor([[259]])\n",
            "tensor([[ 42,   2,   3, 210, 137, 168, 211, 169]]) tensor([[113]])\n",
            "tensor([[78, 79, 80, 81, 82, 83, 84]]) tensor([[85]])\n",
            "tensor([[ 1,  2,  3, 50, 51, 19,  3, 45]]) tensor([[52]])\n",
            "tensor([[  1,   2,   3, 163, 164, 165,  83,  84]]) tensor([[166]])\n",
            "tensor([[ 1,  2,  3,  4,  5, 73]]) tensor([[74]])\n",
            "tensor([[ 1,  2,  3, 69,  5,  3, 70, 71]]) tensor([[72]])\n",
            "tensor([[  1,   2,   3,   4,   5, 206]]) tensor([[207]])\n",
            "tensor([[  1,   2,   3,   4,   5, 135]]) tensor([[136]])\n",
            "tensor([[  1,   2,   3,   4,   5, 113]]) tensor([[114]])\n",
            "tensor([[ 1,  2,  3, 37, 38, 39, 40]]) tensor([[41]])\n",
            "tensor([[ 42,  86,  87, 241, 242,  19,  39, 243]]) tensor([[244]])\n",
            "tensor([[ 42, 137,   2, 226,  12,   3, 227, 228]]) tensor([[155]])\n",
            "tensor([[ 10, 140,   3, 141, 142,  12, 143,  83,   3, 144]]) tensor([[145]])\n",
            "tensor([[  1,   2,   3,   4,   5, 286]]) tensor([[287]])\n",
            "tensor([[ 10,   2,  62,  63,   3, 283,   5, 284]]) tensor([[285]])\n",
            "tensor([[ 42, 101,   2,   3,  17]]) tensor([[102]])\n",
            "tensor([[ 42, 318,   2,  62,  63,   3, 319,   5, 320]]) tensor([[321]])\n",
            "tensor([[ 78,  79, 288,  81,  19,  14, 289]]) tensor([[85]])\n",
            "tensor([[ 42, 299, 300, 118,  14, 301, 302, 158, 303, 304, 305, 306]]) tensor([[307]])\n",
            "tensor([[ 1,  2,  3, 33, 34,  5, 35]]) tensor([[36]])\n",
            "tensor([[  1,   2,   3,  17, 115,  83,  84]]) tensor([[116]])\n",
            "tensor([[ 10, 140,   3, 141, 171,   5,   3,  70, 172]]) tensor([[173]])\n",
            "tensor([[1, 2, 3, 4, 5, 6]]) tensor([[7]])\n",
            "tensor([[  1,   2,   3,   4,   5, 279]]) tensor([[280]])\n",
            "tensor([[ 42,   2,   3, 274, 211, 275]]) tensor([[276]])\n",
            "tensor([[ 42, 174,   2,  62,  39, 175, 176,  12, 177, 178]]) tensor([[179]])\n",
            "tensor([[  1,   2,   3, 221,   5, 222, 223, 224]]) tensor([[225]])\n",
            "tensor([[ 42,  18,   2,   3, 281,  12,   3, 282]]) tensor([[205]])\n",
            "tensor([[ 42, 312,   2, 313,  62,  63,   3, 314, 315]]) tensor([[316]])\n",
            "tensor([[  1,   2,   3, 122, 123,  19,   3,  45]]) tensor([[124]])\n",
            "tensor([[10, 96,  3, 97]]) tensor([[98]])\n",
            "tensor([[  1,   2,   3,  37,  38,  39, 161]]) tensor([[162]])\n",
            "tensor([[ 1,  2,  3, 59, 25,  5, 26, 19, 60]]) tensor([[61]])\n",
            "tensor([[  1,   2,   3,  37, 133,   5,  26]]) tensor([[134]])\n",
            "tensor([[ 10,  11, 157, 158, 159]]) tensor([[160]])\n",
            "tensor([[10, 11, 12, 13, 14, 15]]) tensor([[16]])\n",
            "tensor([[ 42, 250, 251, 118, 252, 253]]) tensor([[254]])\n",
            "tensor([[ 10,  29, 130, 131]]) tensor([[132]])\n",
            "tensor([[ 1,  2,  3, 92, 93, 94]]) tensor([[95]])\n",
            "tensor([[ 10, 308,   3, 309, 310]]) tensor([[311]])\n",
            "tensor([[  1,   2,   3, 146, 147,  19, 148]]) tensor([[149]])\n",
            "tensor([[ 78,  79, 261, 151,  14, 262, 153]]) tensor([[36]])\n",
            "tensor([[  1,   2,   3, 141, 117,  83,   3, 277, 278]]) tensor([[121]])\n",
            "tensor([[10, 55,  3, 56,  5, 57]]) tensor([[58]])\n",
            "tensor([[ 42, 200,   2,  14, 201, 202, 203, 204]]) tensor([[205]])\n",
            "tensor([[ 10, 140,   3, 141, 270,  93, 271,   5,   3, 272]]) tensor([[273]])\n",
            "tensor([[ 10,  96,   3, 104, 239]]) tensor([[240]])\n",
            "tensor([[  1,   2,   3,  69,   5, 155]]) tensor([[156]])\n",
            "tensor([[ 42, 137,   2,  62,  39,   3, 322, 323]]) tensor([[6]])\n",
            "tensor([[ 42, 290, 291, 118, 292, 158, 293, 294]]) tensor([[295]])\n",
            "tensor([[ 10,  75, 111]]) tensor([[112]])\n",
            "tensor([[ 42, 137,   2, 138,  39, 175, 269]]) tensor([[99]])\n",
            "tensor([[42, 86, 87, 88, 89, 39, 90]]) tensor([[91]])\n",
            "tensor([[ 42, 117, 118,   3, 119,  94, 120]]) tensor([[121]])\n",
            "tensor([[ 78,  79, 129,  81,  19,   3,  21,  22]]) tensor([[36]])\n",
            "tensor([[ 1,  2,  3, 17, 18, 19, 20, 21, 22]]) tensor([[23]])\n",
            "tensor([[ 1,  2,  3, 24, 25,  5, 26, 19, 27]]) tensor([[28]])\n",
            "tensor([[ 42, 263, 264,  14, 265, 266, 158, 267]]) tensor([[268]])\n",
            "tensor([[ 10,  75,   3, 296,  19, 297]]) tensor([[298]])\n",
            "tensor([[ 42, 125,   2,  62,  63,   3, 126, 127]]) tensor([[128]])\n",
            "tensor([[  1,   2,   3, 212,   5,  14, 213, 214]]) tensor([[215]])\n",
            "tensor([[10, 75, 76]]) tensor([[77]])\n",
            "tensor([[ 42, 167,   2,   3,  17, 168, 169]]) tensor([[170]])\n",
            "tensor([[10, 29,  3, 30, 31]]) tensor([[32]])\n",
            "tensor([[ 78,  79, 150, 151,  14, 152, 153]]) tensor([[154]])\n",
            "tensor([[42, 43, 44, 45, 46, 47, 48]]) tensor([[49]])\n",
            "tensor([[ 42, 216, 118, 217, 218,  19,  14, 219,  43]]) tensor([[220]])\n",
            "tensor([[ 42, 107,   2, 108,  19, 109]]) tensor([[110]])\n"
          ]
        }
      ]
    },
    {
      "cell_type": "code",
      "source": [
        "import torch.nn as nn"
      ],
      "metadata": {
        "id": "SCXvEFQEvusI"
      },
      "execution_count": 74,
      "outputs": []
    },
    {
      "cell_type": "code",
      "source": [
        "class MyRNN(nn.Module):\n",
        "\n",
        "  def __init__(self, vocab_size):\n",
        "    super().__init__()\n",
        "    self.embedding = nn.Embedding(vocab_size, embedding_dim=50)\n",
        "    self.rnn = nn.RNN(50,64, batch_first = True)\n",
        "    self.fc = nn.Linear(64, vocab_size)\n",
        "\n",
        "  def forward(self, question):\n",
        "    embedded_question = self.embedding(question)\n",
        "    hidden , final = self.rnn(embedded_question)\n",
        "    output = self.fc(final.squeeze(0))\n",
        "    return output"
      ],
      "metadata": {
        "id": "b8iCe_Co1ImT"
      },
      "execution_count": 75,
      "outputs": []
    },
    {
      "cell_type": "code",
      "source": [
        "learning_rate = 0.001\n",
        "epochs = 20"
      ],
      "metadata": {
        "id": "DVbQYy5Y48bE"
      },
      "execution_count": 76,
      "outputs": []
    },
    {
      "cell_type": "code",
      "source": [
        "model = MyRNN(len(vocab))"
      ],
      "metadata": {
        "id": "0JIE1rvA48Xc"
      },
      "execution_count": 77,
      "outputs": []
    },
    {
      "cell_type": "code",
      "source": [
        "criterion = nn.CrossEntropyLoss()\n",
        "optimizer = torch.optim.Adam(model.parameters(), lr=learning_rate)"
      ],
      "metadata": {
        "id": "sVfzBoz348VX"
      },
      "execution_count": 78,
      "outputs": []
    },
    {
      "cell_type": "code",
      "source": [
        "# training loop\n",
        "\n",
        "for epoch in range(epochs):\n",
        "\n",
        "  total_loss = 0\n",
        "\n",
        "  for question, answer in dataloader:\n",
        "\n",
        "    optimizer.zero_grad()\n",
        "\n",
        "    # forward pass\n",
        "    output = model(question)\n",
        "\n",
        "    # loss -> output shape (1,324) - (1)\n",
        "    loss = criterion(output, answer[0])\n",
        "\n",
        "    # gradients\n",
        "    loss.backward()\n",
        "\n",
        "    # update\n",
        "    optimizer.step()\n",
        "\n",
        "    total_loss = total_loss + loss.item()\n",
        "\n",
        "  print(f\"Epoch: {epoch+1}, Loss: {total_loss:4f}\")"
      ],
      "metadata": {
        "colab": {
          "base_uri": "https://localhost:8080/"
        },
        "id": "dpi3FCxE48RK",
        "outputId": "97780687-5ed6-4b56-c12d-ec82ce5bb115"
      },
      "execution_count": 79,
      "outputs": [
        {
          "output_type": "stream",
          "name": "stdout",
          "text": [
            "Epoch: 1, Loss: 524.800315\n",
            "Epoch: 2, Loss: 451.730977\n",
            "Epoch: 3, Loss: 374.907143\n",
            "Epoch: 4, Loss: 317.261458\n",
            "Epoch: 5, Loss: 264.886112\n",
            "Epoch: 6, Loss: 215.662099\n",
            "Epoch: 7, Loss: 171.911002\n",
            "Epoch: 8, Loss: 133.408508\n",
            "Epoch: 9, Loss: 102.348152\n",
            "Epoch: 10, Loss: 77.998965\n",
            "Epoch: 11, Loss: 59.873835\n",
            "Epoch: 12, Loss: 46.851347\n",
            "Epoch: 13, Loss: 36.757198\n",
            "Epoch: 14, Loss: 29.627318\n",
            "Epoch: 15, Loss: 24.234636\n",
            "Epoch: 16, Loss: 19.921454\n",
            "Epoch: 17, Loss: 16.709869\n",
            "Epoch: 18, Loss: 14.136948\n",
            "Epoch: 19, Loss: 12.071528\n",
            "Epoch: 20, Loss: 10.437984\n"
          ]
        }
      ]
    },
    {
      "cell_type": "code",
      "source": [
        "def predict(model, question, threshold = 0.5):\n",
        "\n",
        "  # convert question to numbers\n",
        "  numerical_question = text_to_indices(question, vocab)\n",
        "\n",
        "  # tensor\n",
        "  question_tensor = torch.tensor(numerical_question)\n",
        "\n",
        "  # unsqueeze\n",
        "  question_tensor = question_tensor.unsqueeze(0)\n",
        "\n",
        "  # send to model\n",
        "  output = model(question_tensor)\n",
        "\n",
        "  # convert logits to probs\n",
        "  probs = torch.nn.functional.softmax(output, dim =1)\n",
        "\n",
        "  # find index of max prob\n",
        "  value, index = torch.max(probs, dim=1)\n",
        "\n",
        "  if value < threshold:\n",
        "    print(\"I don't know\")\n",
        "\n",
        "  print(list(vocab.keys())[index])"
      ],
      "metadata": {
        "id": "EtwWBCNE48PU"
      },
      "execution_count": 92,
      "outputs": []
    },
    {
      "cell_type": "code",
      "source": [
        "predict(model , \"What is the largest planet in our solar system?\")"
      ],
      "metadata": {
        "colab": {
          "base_uri": "https://localhost:8080/"
        },
        "id": "RsBMTXa448NR",
        "outputId": "44771541-0956-4dcc-b9ca-d83605a0b090"
      },
      "execution_count": 94,
      "outputs": [
        {
          "output_type": "stream",
          "name": "stdout",
          "text": [
            "jupiter\n"
          ]
        }
      ]
    },
    {
      "cell_type": "code",
      "source": [],
      "metadata": {
        "id": "dKfc73Nd48Kq"
      },
      "execution_count": 79,
      "outputs": []
    },
    {
      "cell_type": "markdown",
      "source": [
        "## Debugging the RNN model"
      ],
      "metadata": {
        "id": "ik4bdLgI9GFj"
      }
    },
    {
      "cell_type": "code",
      "source": [
        "dataset[15][0]"
      ],
      "metadata": {
        "colab": {
          "base_uri": "https://localhost:8080/"
        },
        "id": "0xWcJBZ61Ii6",
        "outputId": "bb64f46d-64c0-431b-f43c-b3ab737ce6d4"
      },
      "execution_count": 80,
      "outputs": [
        {
          "output_type": "execute_result",
          "data": {
            "text/plain": [
              "tensor([ 1,  2,  3, 69,  5,  3, 70, 71])"
            ]
          },
          "metadata": {},
          "execution_count": 80
        }
      ]
    },
    {
      "cell_type": "code",
      "source": [
        "x = nn.Embedding(324, embedding_dim=50)"
      ],
      "metadata": {
        "id": "-cDikfVU1Ign"
      },
      "execution_count": 81,
      "outputs": []
    },
    {
      "cell_type": "code",
      "source": [
        "a = x(dataset[0][0])"
      ],
      "metadata": {
        "id": "Dtfq4bjD1IeN"
      },
      "execution_count": 82,
      "outputs": []
    },
    {
      "cell_type": "code",
      "source": [
        "a"
      ],
      "metadata": {
        "colab": {
          "base_uri": "https://localhost:8080/"
        },
        "id": "Si1Ot6wO3cvo",
        "outputId": "1ab643ec-be92-455a-9cc7-dce759aea9d7"
      },
      "execution_count": 83,
      "outputs": [
        {
          "output_type": "execute_result",
          "data": {
            "text/plain": [
              "tensor([[-0.4461, -0.8667, -0.3559,  1.0807,  0.9863,  2.0267,  0.4628, -0.8047,\n",
              "         -1.0941, -1.4439, -0.2163,  2.0950, -0.4981,  0.2091, -0.8953, -0.9337,\n",
              "          0.3749, -0.6643, -0.9074,  0.0132, -1.9927,  0.4696, -1.3910,  0.8902,\n",
              "          1.1955, -1.6139, -0.9726, -0.0474, -1.5127,  0.3016, -1.1297, -1.4572,\n",
              "          0.4244,  1.1506, -0.0357, -0.8396, -0.5077,  0.5478, -1.5940, -1.4143,\n",
              "          0.0477, -0.3730, -0.2286, -0.1047, -2.2962,  0.1111,  1.3262, -0.6242,\n",
              "          0.2509, -1.2717],\n",
              "        [-0.0911, -1.1940,  0.0706,  0.2816,  0.4810,  0.6172,  0.6857,  1.2051,\n",
              "         -0.6096,  0.1420, -0.6275,  1.3983,  0.2012, -0.8374,  0.5143, -2.3620,\n",
              "         -0.9307,  0.4962,  0.5008, -0.4810, -0.6544,  1.9830, -0.1678,  0.0076,\n",
              "          0.3778,  0.1043,  0.0895,  0.5263, -0.3860,  0.3775, -0.1149,  0.7785,\n",
              "         -1.0224,  0.8637, -0.1267, -0.9606,  0.3858, -0.6169, -1.0993,  0.1467,\n",
              "         -0.3904,  1.0854,  0.6525, -0.1438,  0.0109, -0.4367,  0.0278, -0.0505,\n",
              "         -0.0675, -0.9357],\n",
              "        [-0.2549,  0.2645, -1.6588,  1.0943,  2.1623,  0.0453,  1.4374, -1.0658,\n",
              "          0.3361,  0.3118,  1.0253, -0.4620, -0.7905,  0.0175, -1.2453,  0.0261,\n",
              "          0.4353,  1.1660, -2.1929,  0.6151,  0.4180,  0.1077, -0.8956, -0.4990,\n",
              "         -0.4182, -0.2245,  0.3695,  2.6185, -0.8728,  0.4543, -1.8404,  0.1162,\n",
              "         -1.7132, -0.5432, -0.4830,  0.8294,  0.5671,  0.6847,  1.2856,  1.0977,\n",
              "          0.0698, -1.0237, -0.8154, -0.3067, -0.9627, -0.1922, -0.7238,  0.3873,\n",
              "         -1.4810, -0.6192],\n",
              "        [-0.8088,  0.2712,  0.2656, -0.3657, -0.4863,  1.2384, -0.0714, -1.6553,\n",
              "          0.3033, -2.6623,  0.7817, -1.5915, -0.6031,  0.2826,  0.2530,  0.7257,\n",
              "          0.5764, -0.3974,  1.2717,  1.6558,  0.9454, -0.2639,  0.1174,  1.8492,\n",
              "         -0.6421,  1.0110,  0.5077,  0.2179, -0.5110, -0.3906, -0.7702,  1.4646,\n",
              "          0.1636,  0.3817, -0.3212, -1.9488, -1.2065,  0.6472,  0.2241, -1.6705,\n",
              "          0.4802, -0.6684, -0.7412,  0.6449,  1.0706,  1.2784,  0.2095, -0.0498,\n",
              "         -0.6931,  1.1138],\n",
              "        [ 0.6547, -2.3085,  0.8203,  0.7343,  1.0929, -1.9136, -1.4065, -0.3063,\n",
              "         -0.1714,  0.2436, -0.1072, -0.5424,  1.3214,  0.4295,  0.7513,  2.4322,\n",
              "         -1.0344, -0.2206, -0.3428, -0.7642, -0.6452,  0.9471, -0.4018,  0.6736,\n",
              "         -0.2287,  0.0702, -0.8931,  1.8382,  0.3088,  0.9557,  0.5963, -0.4841,\n",
              "         -1.1107, -1.1432, -0.1767,  0.2036,  0.3859,  0.1016, -1.4888,  0.8087,\n",
              "         -0.8317,  0.3716, -0.7410, -1.2383,  1.2295, -0.3663,  0.5768, -0.4689,\n",
              "         -1.2290,  0.9405],\n",
              "        [ 0.4005,  3.3580, -0.4681, -0.0637, -0.8569, -0.1462,  0.1164, -0.4274,\n",
              "          0.3105, -0.3391, -0.1492,  1.4494,  0.0688,  1.3478, -0.8162,  0.4469,\n",
              "          0.1862, -0.0168, -0.3037, -0.7451, -0.5294,  0.6258,  0.9638,  1.3180,\n",
              "          0.3862, -0.0062, -0.3541, -2.2777,  0.2765,  0.0640,  0.0106, -1.1919,\n",
              "          1.0717,  1.3673, -1.4699, -0.2399,  0.1534, -0.8801, -1.7548, -0.0649,\n",
              "          0.0343, -0.1548,  0.2417, -0.4643,  0.5679, -1.2885,  0.1533, -0.3477,\n",
              "         -0.5792,  0.1446]], grad_fn=<EmbeddingBackward0>)"
            ]
          },
          "metadata": {},
          "execution_count": 83
        }
      ]
    },
    {
      "cell_type": "code",
      "source": [
        "y = nn.RNN(50,64)"
      ],
      "metadata": {
        "id": "0AfUQ0Wu1Ibz"
      },
      "execution_count": 84,
      "outputs": []
    },
    {
      "cell_type": "code",
      "source": [
        "# hidden state\n",
        "y(a)[0]"
      ],
      "metadata": {
        "colab": {
          "base_uri": "https://localhost:8080/"
        },
        "id": "6MoqomG135PL",
        "outputId": "50ca7f51-e976-46e9-fbfc-7900b30ca489"
      },
      "execution_count": 85,
      "outputs": [
        {
          "output_type": "execute_result",
          "data": {
            "text/plain": [
              "tensor([[-1.6533e-02, -2.5550e-01, -1.3339e-01, -3.5053e-02, -1.4770e-01,\n",
              "          2.4737e-01,  3.0746e-01,  5.7550e-01, -4.8106e-01,  2.2775e-01,\n",
              "          5.2327e-01,  6.7713e-01,  8.8188e-02, -2.4515e-01,  3.4435e-01,\n",
              "          6.1198e-01,  2.3530e-01,  3.0244e-02, -5.9703e-01,  3.0095e-01,\n",
              "          8.7754e-01,  4.3378e-02,  8.5479e-01,  2.1791e-01,  1.1660e-01,\n",
              "          1.0296e-01,  1.6256e-01, -1.4651e-01,  1.3775e-01, -5.5197e-02,\n",
              "         -4.6380e-03, -1.1380e-01, -2.6894e-02, -3.5227e-01, -5.5863e-01,\n",
              "          3.7878e-01, -5.9575e-01,  5.1448e-01,  9.5559e-02,  8.1130e-02,\n",
              "         -3.5667e-01, -1.6019e-01,  1.4601e-01,  2.1563e-02, -2.3952e-01,\n",
              "         -4.6410e-01,  5.7182e-01, -4.9418e-02, -4.9583e-02,  7.7420e-01,\n",
              "          4.2231e-01, -6.0862e-01,  7.1711e-01,  2.1645e-01, -3.1451e-01,\n",
              "          8.3626e-01, -4.6815e-02,  2.6395e-03,  2.8394e-01, -2.2068e-01,\n",
              "          3.7980e-01,  1.6217e-01, -4.9959e-02,  4.5521e-01],\n",
              "        [ 8.7321e-03, -6.0969e-01, -1.7276e-01,  5.8161e-01, -7.2528e-01,\n",
              "          2.1629e-01,  3.0505e-01,  8.0947e-02,  3.1162e-01,  2.8134e-01,\n",
              "          5.3320e-02,  1.5842e-01, -8.4806e-02,  3.0075e-01,  2.3779e-01,\n",
              "          4.5539e-01, -1.8715e-01, -3.1860e-01,  7.5294e-02,  6.2805e-01,\n",
              "          3.9930e-01,  1.5452e-01, -8.6999e-02,  4.6598e-01, -5.0136e-01,\n",
              "          3.8669e-02, -1.4570e-01,  1.1700e-01, -4.9982e-02, -7.1095e-01,\n",
              "         -4.2448e-01, -9.7853e-02, -5.3272e-02, -4.6754e-01,  2.4390e-01,\n",
              "          1.0460e-01, -3.8996e-02,  6.7434e-01,  4.9901e-02,  5.6241e-03,\n",
              "         -1.8881e-01, -4.0390e-01,  4.0908e-01,  2.2957e-01,  2.7291e-01,\n",
              "          6.9127e-02,  3.8585e-01,  1.1246e-01,  3.5922e-01,  3.4973e-01,\n",
              "         -3.4322e-01,  4.0536e-01,  4.8905e-02,  1.0812e-01,  5.7370e-02,\n",
              "          6.3749e-01, -1.2677e-01, -9.5808e-02, -1.6909e-01, -3.6402e-01,\n",
              "         -1.2671e-01, -2.4374e-01, -9.9174e-02,  7.5902e-04],\n",
              "        [ 3.4737e-01, -6.4265e-02, -3.9795e-01,  2.9000e-01,  3.8377e-01,\n",
              "         -6.2360e-01,  3.1912e-03,  1.0387e-01, -2.3193e-01,  7.3561e-01,\n",
              "         -2.3074e-01, -1.1980e-02,  8.3825e-02,  6.8605e-01,  2.6263e-01,\n",
              "          4.9185e-01, -1.0227e-01, -2.2980e-01, -4.9236e-01, -6.1959e-01,\n",
              "         -2.2444e-01, -5.5232e-01, -4.5122e-01, -4.4735e-01,  4.8383e-01,\n",
              "         -6.1016e-02, -2.1260e-01, -2.8803e-01, -4.6579e-01, -2.5403e-01,\n",
              "         -7.1636e-01, -4.9053e-01, -3.0443e-01, -6.1104e-01,  2.0805e-01,\n",
              "          8.5659e-01,  4.7628e-01,  3.1164e-01, -5.1108e-01,  5.5641e-01,\n",
              "          1.3660e-01,  7.1472e-01, -5.6678e-01,  3.0976e-01, -6.0846e-01,\n",
              "         -6.1421e-01,  6.6977e-01, -5.9331e-01,  5.7538e-01,  3.1726e-02,\n",
              "          7.8661e-01, -6.0517e-01,  1.9388e-01, -6.3171e-01,  1.9388e-01,\n",
              "          7.6870e-01, -4.0255e-01, -5.0403e-01,  7.3204e-02,  7.8424e-02,\n",
              "          4.3990e-01, -2.7238e-02,  1.1613e-01,  4.1058e-01],\n",
              "        [ 5.0856e-01,  6.8371e-02, -2.8273e-02, -4.7869e-02,  3.8462e-01,\n",
              "          3.2576e-01, -3.3482e-01,  1.4872e-01,  1.6542e-01, -3.8745e-01,\n",
              "         -1.8123e-02, -1.3420e-01,  5.5456e-01, -5.6610e-01, -7.6278e-01,\n",
              "          7.5762e-01,  2.8589e-01,  2.9226e-01,  9.1218e-01, -6.6282e-01,\n",
              "          1.4666e-01, -5.1603e-02,  2.4698e-01, -5.5812e-01,  1.3157e-01,\n",
              "         -9.0397e-01, -2.5245e-01, -7.2543e-01,  1.2515e-01, -7.7455e-02,\n",
              "         -7.1169e-01, -6.0846e-01, -3.2136e-01, -1.7226e-01, -2.2837e-01,\n",
              "          1.5816e-02,  1.8185e-01,  1.1949e-01,  2.7723e-01, -3.5206e-01,\n",
              "         -1.4358e-01,  5.3773e-01, -7.7332e-01,  4.9236e-02, -2.3422e-02,\n",
              "          8.6343e-01, -2.7599e-01, -2.3315e-01,  3.7919e-02,  1.5766e-01,\n",
              "          7.1840e-01, -4.7910e-01, -7.1457e-01, -7.9386e-01, -9.7553e-02,\n",
              "          1.5652e-01, -1.5049e-01,  2.0840e-01, -1.0473e-01,  4.1281e-01,\n",
              "          1.1027e-01, -2.2012e-01, -4.9774e-01,  2.8605e-01],\n",
              "        [ 4.0690e-01, -5.2148e-02,  6.9757e-01,  1.0562e-01,  6.3875e-01,\n",
              "         -3.9459e-01, -5.5257e-01, -1.7780e-01, -1.7571e-01,  2.9305e-01,\n",
              "          5.2935e-01,  8.1671e-01,  5.0817e-01,  9.3265e-01, -4.3375e-01,\n",
              "          1.6480e-01, -4.6223e-01,  4.6167e-01, -6.2542e-01,  5.9928e-01,\n",
              "          8.5016e-02, -9.4854e-01, -8.5769e-01, -1.9586e-01,  4.4138e-01,\n",
              "          4.1005e-01,  2.5218e-01, -1.8829e-01,  7.3145e-02,  1.4235e-03,\n",
              "         -5.7363e-01,  6.8336e-01, -2.2511e-01, -8.2856e-01,  5.9620e-01,\n",
              "          2.8857e-01,  5.5194e-01,  5.4072e-01, -5.2510e-01, -3.3371e-01,\n",
              "         -6.1775e-01,  3.8622e-01,  6.5167e-01, -1.9931e-01, -4.2133e-01,\n",
              "          4.4289e-01,  3.2806e-01,  4.1085e-01,  3.7457e-01, -6.4456e-01,\n",
              "          8.6835e-03,  8.3034e-01,  3.0662e-02, -7.0635e-01,  3.1735e-01,\n",
              "          2.3356e-01,  1.7422e-01, -1.5022e-01,  2.4109e-01,  2.7652e-01,\n",
              "          8.4169e-01, -3.3759e-01,  1.9688e-01,  1.2554e-01],\n",
              "        [-1.5755e-01,  3.8947e-01, -1.7245e-01,  4.4553e-01, -6.8892e-01,\n",
              "          2.7840e-01,  6.2827e-02,  3.8515e-01, -3.4992e-01, -4.3565e-01,\n",
              "         -1.8241e-01,  2.7347e-01, -2.6517e-01,  5.1779e-02, -7.7611e-01,\n",
              "         -3.7040e-01,  5.8037e-01,  8.6760e-01, -6.1683e-01, -4.3795e-01,\n",
              "          7.1633e-02,  4.3817e-01,  8.8987e-01, -2.8134e-01, -9.9113e-02,\n",
              "         -6.7250e-01,  5.0855e-01,  9.2011e-02,  8.6119e-01, -2.4423e-01,\n",
              "         -4.3640e-01,  5.7473e-01,  2.3318e-01,  4.0479e-01,  2.0222e-01,\n",
              "          2.9885e-01, -8.7674e-01,  8.1295e-02,  8.1570e-01,  5.9275e-02,\n",
              "         -6.9099e-01, -3.9806e-01,  1.9100e-01,  2.0602e-01, -3.9474e-01,\n",
              "          2.2355e-01,  1.2613e-01,  5.7892e-02,  1.6546e-01,  1.0261e-02,\n",
              "         -5.6053e-01,  1.2090e-01,  4.2963e-01, -6.5082e-02, -4.5631e-01,\n",
              "         -3.9736e-01,  5.6893e-01,  2.6884e-01,  2.0226e-01, -1.1456e-01,\n",
              "          3.3886e-01,  3.1512e-01,  4.7776e-01,  2.9605e-01]],\n",
              "       grad_fn=<SqueezeBackward1>)"
            ]
          },
          "metadata": {},
          "execution_count": 85
        }
      ]
    },
    {
      "cell_type": "code",
      "source": [
        "# final output\n",
        "b = y(a)[1]"
      ],
      "metadata": {
        "id": "CAnxZwdDvupx"
      },
      "execution_count": 86,
      "outputs": []
    },
    {
      "cell_type": "code",
      "source": [
        "z = nn.Linear(64, 324)"
      ],
      "metadata": {
        "id": "TXhG2SV93YGZ"
      },
      "execution_count": 87,
      "outputs": []
    },
    {
      "cell_type": "code",
      "source": [
        "z(b).shape"
      ],
      "metadata": {
        "colab": {
          "base_uri": "https://localhost:8080/"
        },
        "id": "NrkNECV-3oHm",
        "outputId": "52e7edcb-d622-4923-896b-ff8d04be7b8b"
      },
      "execution_count": 88,
      "outputs": [
        {
          "output_type": "execute_result",
          "data": {
            "text/plain": [
              "torch.Size([1, 324])"
            ]
          },
          "metadata": {},
          "execution_count": 88
        }
      ]
    },
    {
      "cell_type": "code",
      "source": [],
      "metadata": {
        "id": "nca9dYhX3oEF"
      },
      "execution_count": 88,
      "outputs": []
    },
    {
      "cell_type": "code",
      "source": [],
      "metadata": {
        "id": "nPgz20Aw3oBY"
      },
      "execution_count": 88,
      "outputs": []
    },
    {
      "cell_type": "code",
      "source": [],
      "metadata": {
        "id": "zDxH-Q233n-r"
      },
      "execution_count": 88,
      "outputs": []
    },
    {
      "cell_type": "code",
      "source": [],
      "metadata": {
        "id": "sBYhfMDE3n8A"
      },
      "execution_count": 88,
      "outputs": []
    },
    {
      "cell_type": "code",
      "source": [],
      "metadata": {
        "id": "d4w6iHsK3n5i"
      },
      "execution_count": 88,
      "outputs": []
    },
    {
      "cell_type": "code",
      "source": [],
      "metadata": {
        "id": "2OuD6XY-3n3B"
      },
      "execution_count": 88,
      "outputs": []
    },
    {
      "cell_type": "code",
      "source": [],
      "metadata": {
        "id": "n-XkZQnW3n0e"
      },
      "execution_count": 88,
      "outputs": []
    }
  ]
}